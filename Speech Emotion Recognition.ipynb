{
  "cells": [
    {
      "cell_type": "code",
      "source": [
        "from glob import glob\n",
        "from google.colab import drive\n",
        "\n",
        "# Mount Google Drive\n",
        "drive.mount('/content/drive')"
      ],
      "metadata": {
        "colab": {
          "base_uri": "https://localhost:8080/"
        },
        "id": "byWQ93cwSbVf",
        "outputId": "6b84e398-0cb3-4900-a587-b0e80819bbfc"
      },
      "execution_count": null,
      "outputs": [
        {
          "output_type": "stream",
          "name": "stdout",
          "text": [
            "Mounted at /content/drive\n"
          ]
        }
      ]
    },
    {
      "cell_type": "code",
      "source": [
        "import numpy as np\n",
        "import pandas as pd\n",
        "import matplotlib.pylab as plt\n",
        "import seaborn as sns\n",
        "import os\n",
        "########################################################################\n",
        "#glob is use to list all the file in a directory\n",
        "########################################################################\n",
        "from glob import glob\n",
        "########################################################################\n",
        "#The main package to work with audio data\n",
        "########################################################################\n",
        "import librosa\n",
        "import librosa.display\n",
        "\n",
        "#to listen to sound\n",
        "import IPython.display as ipd\n",
        "from itertools import cycle\n",
        "\n",
        "from sklearn import linear_model\n",
        "import sklearn.metrics\n",
        "from sklearn.preprocessing import scale, normalize"
      ],
      "metadata": {
        "id": "ivmg-uVuWMlB"
      },
      "execution_count": null,
      "outputs": []
    },
    {
      "cell_type": "code",
      "source": [
        "#For color and make my slide look nice\n",
        "\n",
        "sns.set_theme(style='white', palette=None)\n",
        "color_pal=plt.rcParams[\"axes.prop_cycle\"].by_key()['color']\n",
        "color_cycle=cycle(plt.rcParams[\"axes.prop_cycle\"].by_key()['color'])"
      ],
      "metadata": {
        "id": "FLZJvkykWMiU"
      },
      "execution_count": null,
      "outputs": []
    },
    {
      "cell_type": "code",
      "source": [
        "path=\"/content/drive/MyDrive/DATASETS/TESS/\"\n",
        "\n",
        "anger = glob(path+\"Anger/*.wav\")\n",
        "bored = glob(path+\"Bored/*.wav\")\n",
        "disgust = glob(path+\"Disgust/*.wav\")\n",
        "fear = glob(path+\"Fear/*.wav\")\n",
        "happy = glob(path+\"Happy/*.wav\")\n",
        "#neutral=glob(path+\"Neutral/*.wav\")\n",
        "sad = glob(path+\"Sad/*.wav\")\n"
      ],
      "metadata": {
        "id": "KN8kBRolWMgI"
      },
      "execution_count": null,
      "outputs": []
    },
    {
      "cell_type": "code",
      "source": [
        "!pip install resampy\n",
        "#!apt install python3-resampy\n",
        "import resampy"
      ],
      "metadata": {
        "id": "r2U7aspxRmsE",
        "colab": {
          "base_uri": "https://localhost:8080/"
        },
        "outputId": "d0e77ee9-ae4f-4e5c-8bf5-92c513ddb93e"
      },
      "execution_count": null,
      "outputs": [
        {
          "output_type": "stream",
          "name": "stdout",
          "text": [
            "Requirement already satisfied: resampy in /usr/local/lib/python3.10/dist-packages (0.4.3)\n",
            "Requirement already satisfied: numpy>=1.17 in /usr/local/lib/python3.10/dist-packages (from resampy) (1.25.2)\n",
            "Requirement already satisfied: numba>=0.53 in /usr/local/lib/python3.10/dist-packages (from resampy) (0.58.1)\n",
            "Requirement already satisfied: llvmlite<0.42,>=0.41.0dev0 in /usr/local/lib/python3.10/dist-packages (from numba>=0.53->resampy) (0.41.1)\n"
          ]
        }
      ]
    },
    {
      "cell_type": "code",
      "source": [
        "def mfccs_features(audio_files):\n",
        "  extracted_features = []\n",
        "  label = [1,2,3,4,5]\n",
        "  for audio_file in audio_files:\n",
        "\n",
        "    if audio_file== anger:\n",
        "      x = 0\n",
        "    elif audio_file == happy:\n",
        "      x = 1\n",
        "    elif audio_file == fear:\n",
        "      x = 2\n",
        "    elif audio_file == sad:\n",
        "      x = 3\n",
        "    else:\n",
        "      x = 4\n",
        "\n",
        "    for i in range(len(audio_file)):\n",
        "      audio, sample_rate = librosa.load(audio_file[i], res_type='kaiser_best')\n",
        "      mfccs_features = librosa.feature.mfcc(y=audio, sr=sample_rate, n_mfcc=40)\n",
        "      mfccs_features_scale = np.mean(mfccs_features.T, axis=0)\n",
        "      class_label = label[x]\n",
        "      data = mfccs_features_scale\n",
        "      extracted_features.append([data,class_label])\n",
        "  return extracted_features\n"
      ],
      "metadata": {
        "id": "3xXbk6N7gi4d"
      },
      "execution_count": null,
      "outputs": []
    },
    {
      "cell_type": "code",
      "source": [
        "extracted_features = mfccs_features([anger,happy,fear,sad,disgust] )\n"
      ],
      "metadata": {
        "id": "RA66GZQohUdv"
      },
      "execution_count": null,
      "outputs": []
    },
    {
      "cell_type": "code",
      "source": [
        "#We create a data frame containg our mfc coefficient as feature and act or dog as label\n",
        "Audio_data=pd.DataFrame(extracted_features, columns=['Features', 'Class'])\n",
        "#Audio_data\n",
        "\n",
        "\n",
        "#We randomly shuffle our dataframe\n",
        "data = Audio_data.sample(frac=1, random_state=1).reset_index()\n",
        "data.drop('index', axis=1, inplace=True)\n",
        "data\n",
        "\n"
      ],
      "metadata": {
        "id": "Wy3M0yAmWMZ8",
        "colab": {
          "base_uri": "https://localhost:8080/",
          "height": 411
        },
        "outputId": "ce326637-37ff-49b0-be4a-7c6f68d40c26"
      },
      "execution_count": null,
      "outputs": [
        {
          "output_type": "execute_result",
          "data": {
            "text/plain": [
              "                                               Features  Class\n",
              "0     [-315.57455, 18.927155, -17.957874, 17.602816,...      2\n",
              "1     [-459.61826, 81.57872, 22.036575, 15.578322, 1...      5\n",
              "2     [-520.4158, 73.12935, 22.896946, 14.846818, 15...      4\n",
              "3     [-509.79453, 97.24656, 26.216064, 16.730312, 2...      4\n",
              "4     [-478.13864, 83.59039, 13.006593, 8.810062, 7....      4\n",
              "...                                                 ...    ...\n",
              "1995  [-445.62787, 65.73753, 13.454742, 0.32482845, ...      5\n",
              "1996  [-314.14777, 44.58899, -23.835648, 20.176666, ...      3\n",
              "1997  [-428.83334, 90.23989, -2.3602102, 22.070618, ...      5\n",
              "1998  [-358.72388, 21.980139, -3.0597188, 30.210419,...      1\n",
              "1999  [-305.65353, 27.98531, -16.77695, 28.156038, 2...      3\n",
              "\n",
              "[2000 rows x 2 columns]"
            ],
            "text/html": [
              "\n",
              "  <div id=\"df-1e32d6a6-22d9-4cd2-be19-a6769f26b9df\" class=\"colab-df-container\">\n",
              "    <div>\n",
              "<style scoped>\n",
              "    .dataframe tbody tr th:only-of-type {\n",
              "        vertical-align: middle;\n",
              "    }\n",
              "\n",
              "    .dataframe tbody tr th {\n",
              "        vertical-align: top;\n",
              "    }\n",
              "\n",
              "    .dataframe thead th {\n",
              "        text-align: right;\n",
              "    }\n",
              "</style>\n",
              "<table border=\"1\" class=\"dataframe\">\n",
              "  <thead>\n",
              "    <tr style=\"text-align: right;\">\n",
              "      <th></th>\n",
              "      <th>Features</th>\n",
              "      <th>Class</th>\n",
              "    </tr>\n",
              "  </thead>\n",
              "  <tbody>\n",
              "    <tr>\n",
              "      <th>0</th>\n",
              "      <td>[-315.57455, 18.927155, -17.957874, 17.602816,...</td>\n",
              "      <td>2</td>\n",
              "    </tr>\n",
              "    <tr>\n",
              "      <th>1</th>\n",
              "      <td>[-459.61826, 81.57872, 22.036575, 15.578322, 1...</td>\n",
              "      <td>5</td>\n",
              "    </tr>\n",
              "    <tr>\n",
              "      <th>2</th>\n",
              "      <td>[-520.4158, 73.12935, 22.896946, 14.846818, 15...</td>\n",
              "      <td>4</td>\n",
              "    </tr>\n",
              "    <tr>\n",
              "      <th>3</th>\n",
              "      <td>[-509.79453, 97.24656, 26.216064, 16.730312, 2...</td>\n",
              "      <td>4</td>\n",
              "    </tr>\n",
              "    <tr>\n",
              "      <th>4</th>\n",
              "      <td>[-478.13864, 83.59039, 13.006593, 8.810062, 7....</td>\n",
              "      <td>4</td>\n",
              "    </tr>\n",
              "    <tr>\n",
              "      <th>...</th>\n",
              "      <td>...</td>\n",
              "      <td>...</td>\n",
              "    </tr>\n",
              "    <tr>\n",
              "      <th>1995</th>\n",
              "      <td>[-445.62787, 65.73753, 13.454742, 0.32482845, ...</td>\n",
              "      <td>5</td>\n",
              "    </tr>\n",
              "    <tr>\n",
              "      <th>1996</th>\n",
              "      <td>[-314.14777, 44.58899, -23.835648, 20.176666, ...</td>\n",
              "      <td>3</td>\n",
              "    </tr>\n",
              "    <tr>\n",
              "      <th>1997</th>\n",
              "      <td>[-428.83334, 90.23989, -2.3602102, 22.070618, ...</td>\n",
              "      <td>5</td>\n",
              "    </tr>\n",
              "    <tr>\n",
              "      <th>1998</th>\n",
              "      <td>[-358.72388, 21.980139, -3.0597188, 30.210419,...</td>\n",
              "      <td>1</td>\n",
              "    </tr>\n",
              "    <tr>\n",
              "      <th>1999</th>\n",
              "      <td>[-305.65353, 27.98531, -16.77695, 28.156038, 2...</td>\n",
              "      <td>3</td>\n",
              "    </tr>\n",
              "  </tbody>\n",
              "</table>\n",
              "<p>2000 rows × 2 columns</p>\n",
              "</div>\n",
              "    <div class=\"colab-df-buttons\">\n",
              "\n",
              "  <div class=\"colab-df-container\">\n",
              "    <button class=\"colab-df-convert\" onclick=\"convertToInteractive('df-1e32d6a6-22d9-4cd2-be19-a6769f26b9df')\"\n",
              "            title=\"Convert this dataframe to an interactive table.\"\n",
              "            style=\"display:none;\">\n",
              "\n",
              "  <svg xmlns=\"http://www.w3.org/2000/svg\" height=\"24px\" viewBox=\"0 -960 960 960\">\n",
              "    <path d=\"M120-120v-720h720v720H120Zm60-500h600v-160H180v160Zm220 220h160v-160H400v160Zm0 220h160v-160H400v160ZM180-400h160v-160H180v160Zm440 0h160v-160H620v160ZM180-180h160v-160H180v160Zm440 0h160v-160H620v160Z\"/>\n",
              "  </svg>\n",
              "    </button>\n",
              "\n",
              "  <style>\n",
              "    .colab-df-container {\n",
              "      display:flex;\n",
              "      gap: 12px;\n",
              "    }\n",
              "\n",
              "    .colab-df-convert {\n",
              "      background-color: #E8F0FE;\n",
              "      border: none;\n",
              "      border-radius: 50%;\n",
              "      cursor: pointer;\n",
              "      display: none;\n",
              "      fill: #1967D2;\n",
              "      height: 32px;\n",
              "      padding: 0 0 0 0;\n",
              "      width: 32px;\n",
              "    }\n",
              "\n",
              "    .colab-df-convert:hover {\n",
              "      background-color: #E2EBFA;\n",
              "      box-shadow: 0px 1px 2px rgba(60, 64, 67, 0.3), 0px 1px 3px 1px rgba(60, 64, 67, 0.15);\n",
              "      fill: #174EA6;\n",
              "    }\n",
              "\n",
              "    .colab-df-buttons div {\n",
              "      margin-bottom: 4px;\n",
              "    }\n",
              "\n",
              "    [theme=dark] .colab-df-convert {\n",
              "      background-color: #3B4455;\n",
              "      fill: #D2E3FC;\n",
              "    }\n",
              "\n",
              "    [theme=dark] .colab-df-convert:hover {\n",
              "      background-color: #434B5C;\n",
              "      box-shadow: 0px 1px 3px 1px rgba(0, 0, 0, 0.15);\n",
              "      filter: drop-shadow(0px 1px 2px rgba(0, 0, 0, 0.3));\n",
              "      fill: #FFFFFF;\n",
              "    }\n",
              "  </style>\n",
              "\n",
              "    <script>\n",
              "      const buttonEl =\n",
              "        document.querySelector('#df-1e32d6a6-22d9-4cd2-be19-a6769f26b9df button.colab-df-convert');\n",
              "      buttonEl.style.display =\n",
              "        google.colab.kernel.accessAllowed ? 'block' : 'none';\n",
              "\n",
              "      async function convertToInteractive(key) {\n",
              "        const element = document.querySelector('#df-1e32d6a6-22d9-4cd2-be19-a6769f26b9df');\n",
              "        const dataTable =\n",
              "          await google.colab.kernel.invokeFunction('convertToInteractive',\n",
              "                                                    [key], {});\n",
              "        if (!dataTable) return;\n",
              "\n",
              "        const docLinkHtml = 'Like what you see? Visit the ' +\n",
              "          '<a target=\"_blank\" href=https://colab.research.google.com/notebooks/data_table.ipynb>data table notebook</a>'\n",
              "          + ' to learn more about interactive tables.';\n",
              "        element.innerHTML = '';\n",
              "        dataTable['output_type'] = 'display_data';\n",
              "        await google.colab.output.renderOutput(dataTable, element);\n",
              "        const docLink = document.createElement('div');\n",
              "        docLink.innerHTML = docLinkHtml;\n",
              "        element.appendChild(docLink);\n",
              "      }\n",
              "    </script>\n",
              "  </div>\n",
              "\n",
              "\n",
              "<div id=\"df-453eb420-67c5-4f86-8f51-9dbd3d39c959\">\n",
              "  <button class=\"colab-df-quickchart\" onclick=\"quickchart('df-453eb420-67c5-4f86-8f51-9dbd3d39c959')\"\n",
              "            title=\"Suggest charts\"\n",
              "            style=\"display:none;\">\n",
              "\n",
              "<svg xmlns=\"http://www.w3.org/2000/svg\" height=\"24px\"viewBox=\"0 0 24 24\"\n",
              "     width=\"24px\">\n",
              "    <g>\n",
              "        <path d=\"M19 3H5c-1.1 0-2 .9-2 2v14c0 1.1.9 2 2 2h14c1.1 0 2-.9 2-2V5c0-1.1-.9-2-2-2zM9 17H7v-7h2v7zm4 0h-2V7h2v10zm4 0h-2v-4h2v4z\"/>\n",
              "    </g>\n",
              "</svg>\n",
              "  </button>\n",
              "\n",
              "<style>\n",
              "  .colab-df-quickchart {\n",
              "      --bg-color: #E8F0FE;\n",
              "      --fill-color: #1967D2;\n",
              "      --hover-bg-color: #E2EBFA;\n",
              "      --hover-fill-color: #174EA6;\n",
              "      --disabled-fill-color: #AAA;\n",
              "      --disabled-bg-color: #DDD;\n",
              "  }\n",
              "\n",
              "  [theme=dark] .colab-df-quickchart {\n",
              "      --bg-color: #3B4455;\n",
              "      --fill-color: #D2E3FC;\n",
              "      --hover-bg-color: #434B5C;\n",
              "      --hover-fill-color: #FFFFFF;\n",
              "      --disabled-bg-color: #3B4455;\n",
              "      --disabled-fill-color: #666;\n",
              "  }\n",
              "\n",
              "  .colab-df-quickchart {\n",
              "    background-color: var(--bg-color);\n",
              "    border: none;\n",
              "    border-radius: 50%;\n",
              "    cursor: pointer;\n",
              "    display: none;\n",
              "    fill: var(--fill-color);\n",
              "    height: 32px;\n",
              "    padding: 0;\n",
              "    width: 32px;\n",
              "  }\n",
              "\n",
              "  .colab-df-quickchart:hover {\n",
              "    background-color: var(--hover-bg-color);\n",
              "    box-shadow: 0 1px 2px rgba(60, 64, 67, 0.3), 0 1px 3px 1px rgba(60, 64, 67, 0.15);\n",
              "    fill: var(--button-hover-fill-color);\n",
              "  }\n",
              "\n",
              "  .colab-df-quickchart-complete:disabled,\n",
              "  .colab-df-quickchart-complete:disabled:hover {\n",
              "    background-color: var(--disabled-bg-color);\n",
              "    fill: var(--disabled-fill-color);\n",
              "    box-shadow: none;\n",
              "  }\n",
              "\n",
              "  .colab-df-spinner {\n",
              "    border: 2px solid var(--fill-color);\n",
              "    border-color: transparent;\n",
              "    border-bottom-color: var(--fill-color);\n",
              "    animation:\n",
              "      spin 1s steps(1) infinite;\n",
              "  }\n",
              "\n",
              "  @keyframes spin {\n",
              "    0% {\n",
              "      border-color: transparent;\n",
              "      border-bottom-color: var(--fill-color);\n",
              "      border-left-color: var(--fill-color);\n",
              "    }\n",
              "    20% {\n",
              "      border-color: transparent;\n",
              "      border-left-color: var(--fill-color);\n",
              "      border-top-color: var(--fill-color);\n",
              "    }\n",
              "    30% {\n",
              "      border-color: transparent;\n",
              "      border-left-color: var(--fill-color);\n",
              "      border-top-color: var(--fill-color);\n",
              "      border-right-color: var(--fill-color);\n",
              "    }\n",
              "    40% {\n",
              "      border-color: transparent;\n",
              "      border-right-color: var(--fill-color);\n",
              "      border-top-color: var(--fill-color);\n",
              "    }\n",
              "    60% {\n",
              "      border-color: transparent;\n",
              "      border-right-color: var(--fill-color);\n",
              "    }\n",
              "    80% {\n",
              "      border-color: transparent;\n",
              "      border-right-color: var(--fill-color);\n",
              "      border-bottom-color: var(--fill-color);\n",
              "    }\n",
              "    90% {\n",
              "      border-color: transparent;\n",
              "      border-bottom-color: var(--fill-color);\n",
              "    }\n",
              "  }\n",
              "</style>\n",
              "\n",
              "  <script>\n",
              "    async function quickchart(key) {\n",
              "      const quickchartButtonEl =\n",
              "        document.querySelector('#' + key + ' button');\n",
              "      quickchartButtonEl.disabled = true;  // To prevent multiple clicks.\n",
              "      quickchartButtonEl.classList.add('colab-df-spinner');\n",
              "      try {\n",
              "        const charts = await google.colab.kernel.invokeFunction(\n",
              "            'suggestCharts', [key], {});\n",
              "      } catch (error) {\n",
              "        console.error('Error during call to suggestCharts:', error);\n",
              "      }\n",
              "      quickchartButtonEl.classList.remove('colab-df-spinner');\n",
              "      quickchartButtonEl.classList.add('colab-df-quickchart-complete');\n",
              "    }\n",
              "    (() => {\n",
              "      let quickchartButtonEl =\n",
              "        document.querySelector('#df-453eb420-67c5-4f86-8f51-9dbd3d39c959 button');\n",
              "      quickchartButtonEl.style.display =\n",
              "        google.colab.kernel.accessAllowed ? 'block' : 'none';\n",
              "    })();\n",
              "  </script>\n",
              "</div>\n",
              "    </div>\n",
              "  </div>\n"
            ],
            "application/vnd.google.colaboratory.intrinsic+json": {
              "type": "dataframe",
              "variable_name": "data",
              "summary": "{\n  \"name\": \"data\",\n  \"rows\": 2000,\n  \"fields\": [\n    {\n      \"column\": \"Features\",\n      \"properties\": {\n        \"dtype\": \"object\",\n        \"semantic_type\": \"\",\n        \"description\": \"\"\n      }\n    },\n    {\n      \"column\": \"Class\",\n      \"properties\": {\n        \"dtype\": \"number\",\n        \"std\": 1,\n        \"min\": 1,\n        \"max\": 5,\n        \"num_unique_values\": 5,\n        \"samples\": [\n          5,\n          1,\n          4\n        ],\n        \"semantic_type\": \"\",\n        \"description\": \"\"\n      }\n    }\n  ]\n}"
            }
          },
          "metadata": {},
          "execution_count": 84
        }
      ]
    },
    {
      "cell_type": "code",
      "source": [
        "#We extract our feature matrix and we normalize it\n",
        "X_matrix=normalize(np.array(data['Features'].tolist()))\n",
        "\n",
        "#we extract our response variable containig the class of each audio feature\n",
        "y_vector=np.array(data['Class'].tolist())"
      ],
      "metadata": {
        "id": "EmTmgcGlWMPz"
      },
      "execution_count": null,
      "outputs": []
    },
    {
      "cell_type": "code",
      "source": [
        "\n",
        "#We look at the shape of our feature matrix\n",
        "X_matrix.shape"
      ],
      "metadata": {
        "id": "xrdp2VOnWMMs",
        "colab": {
          "base_uri": "https://localhost:8080/"
        },
        "outputId": "fa1e7bbb-8ae7-48ab-fb01-d6509c4d5546"
      },
      "execution_count": null,
      "outputs": [
        {
          "output_type": "execute_result",
          "data": {
            "text/plain": [
              "(2000, 40)"
            ]
          },
          "metadata": {},
          "execution_count": 86
        }
      ]
    },
    {
      "cell_type": "code",
      "source": [
        "#We split in training and testing set with 70% for training and 30% for testing\n",
        "from sklearn.model_selection import train_test_split\n",
        "X_train, X_test,Y_train,Y_test=train_test_split(X_matrix,y_vector, test_size=0.3, random_state=0)\n"
      ],
      "metadata": {
        "id": "E5r3m_9h3i6S"
      },
      "execution_count": null,
      "outputs": []
    },
    {
      "cell_type": "code",
      "source": [
        "#We create an instance of our support vector machine with a linear kernel and a regularizer C=3000\n",
        "from sklearn.svm import SVC\n",
        "model = SVC(kernel='linear', C=6000)"
      ],
      "metadata": {
        "id": "EF03W-uN3mof"
      },
      "execution_count": null,
      "outputs": []
    },
    {
      "cell_type": "code",
      "source": [
        "#We fit our model using de training set\n",
        "model.fit(X_train,Y_train)"
      ],
      "metadata": {
        "colab": {
          "base_uri": "https://localhost:8080/",
          "height": 72
        },
        "id": "qY5K-YUJ3rF4",
        "outputId": "d9221a44-6a65-4098-a930-8cb15dc9a306"
      },
      "execution_count": null,
      "outputs": [
        {
          "output_type": "execute_result",
          "data": {
            "text/plain": [
              "SVC(C=6000, kernel='linear')"
            ],
            "text/html": [
              "<style>#sk-container-id-2 {color: black;background-color: white;}#sk-container-id-2 pre{padding: 0;}#sk-container-id-2 div.sk-toggleable {background-color: white;}#sk-container-id-2 label.sk-toggleable__label {cursor: pointer;display: block;width: 100%;margin-bottom: 0;padding: 0.3em;box-sizing: border-box;text-align: center;}#sk-container-id-2 label.sk-toggleable__label-arrow:before {content: \"▸\";float: left;margin-right: 0.25em;color: #696969;}#sk-container-id-2 label.sk-toggleable__label-arrow:hover:before {color: black;}#sk-container-id-2 div.sk-estimator:hover label.sk-toggleable__label-arrow:before {color: black;}#sk-container-id-2 div.sk-toggleable__content {max-height: 0;max-width: 0;overflow: hidden;text-align: left;background-color: #f0f8ff;}#sk-container-id-2 div.sk-toggleable__content pre {margin: 0.2em;color: black;border-radius: 0.25em;background-color: #f0f8ff;}#sk-container-id-2 input.sk-toggleable__control:checked~div.sk-toggleable__content {max-height: 200px;max-width: 100%;overflow: auto;}#sk-container-id-2 input.sk-toggleable__control:checked~label.sk-toggleable__label-arrow:before {content: \"▾\";}#sk-container-id-2 div.sk-estimator input.sk-toggleable__control:checked~label.sk-toggleable__label {background-color: #d4ebff;}#sk-container-id-2 div.sk-label input.sk-toggleable__control:checked~label.sk-toggleable__label {background-color: #d4ebff;}#sk-container-id-2 input.sk-hidden--visually {border: 0;clip: rect(1px 1px 1px 1px);clip: rect(1px, 1px, 1px, 1px);height: 1px;margin: -1px;overflow: hidden;padding: 0;position: absolute;width: 1px;}#sk-container-id-2 div.sk-estimator {font-family: monospace;background-color: #f0f8ff;border: 1px dotted black;border-radius: 0.25em;box-sizing: border-box;margin-bottom: 0.5em;}#sk-container-id-2 div.sk-estimator:hover {background-color: #d4ebff;}#sk-container-id-2 div.sk-parallel-item::after {content: \"\";width: 100%;border-bottom: 1px solid gray;flex-grow: 1;}#sk-container-id-2 div.sk-label:hover label.sk-toggleable__label {background-color: #d4ebff;}#sk-container-id-2 div.sk-serial::before {content: \"\";position: absolute;border-left: 1px solid gray;box-sizing: border-box;top: 0;bottom: 0;left: 50%;z-index: 0;}#sk-container-id-2 div.sk-serial {display: flex;flex-direction: column;align-items: center;background-color: white;padding-right: 0.2em;padding-left: 0.2em;position: relative;}#sk-container-id-2 div.sk-item {position: relative;z-index: 1;}#sk-container-id-2 div.sk-parallel {display: flex;align-items: stretch;justify-content: center;background-color: white;position: relative;}#sk-container-id-2 div.sk-item::before, #sk-container-id-2 div.sk-parallel-item::before {content: \"\";position: absolute;border-left: 1px solid gray;box-sizing: border-box;top: 0;bottom: 0;left: 50%;z-index: -1;}#sk-container-id-2 div.sk-parallel-item {display: flex;flex-direction: column;z-index: 1;position: relative;background-color: white;}#sk-container-id-2 div.sk-parallel-item:first-child::after {align-self: flex-end;width: 50%;}#sk-container-id-2 div.sk-parallel-item:last-child::after {align-self: flex-start;width: 50%;}#sk-container-id-2 div.sk-parallel-item:only-child::after {width: 0;}#sk-container-id-2 div.sk-dashed-wrapped {border: 1px dashed gray;margin: 0 0.4em 0.5em 0.4em;box-sizing: border-box;padding-bottom: 0.4em;background-color: white;}#sk-container-id-2 div.sk-label label {font-family: monospace;font-weight: bold;display: inline-block;line-height: 1.2em;}#sk-container-id-2 div.sk-label-container {text-align: center;}#sk-container-id-2 div.sk-container {/* jupyter's `normalize.less` sets `[hidden] { display: none; }` but bootstrap.min.css set `[hidden] { display: none !important; }` so we also need the `!important` here to be able to override the default hidden behavior on the sphinx rendered scikit-learn.org. See: https://github.com/scikit-learn/scikit-learn/issues/21755 */display: inline-block !important;position: relative;}#sk-container-id-2 div.sk-text-repr-fallback {display: none;}</style><div id=\"sk-container-id-2\" class=\"sk-top-container\"><div class=\"sk-text-repr-fallback\"><pre>SVC(C=6000, kernel=&#x27;linear&#x27;)</pre><b>In a Jupyter environment, please rerun this cell to show the HTML representation or trust the notebook. <br />On GitHub, the HTML representation is unable to render, please try loading this page with nbviewer.org.</b></div><div class=\"sk-container\" hidden><div class=\"sk-item\"><div class=\"sk-estimator sk-toggleable\"><input class=\"sk-toggleable__control sk-hidden--visually\" id=\"sk-estimator-id-2\" type=\"checkbox\" checked><label for=\"sk-estimator-id-2\" class=\"sk-toggleable__label sk-toggleable__label-arrow\">SVC</label><div class=\"sk-toggleable__content\"><pre>SVC(C=6000, kernel=&#x27;linear&#x27;)</pre></div></div></div></div></div>"
            ]
          },
          "metadata": {},
          "execution_count": 89
        }
      ]
    },
    {
      "cell_type": "code",
      "source": [
        "#We then compute the predicted value of our model using the trainig and testing set\n",
        "y_pred_train  = model.predict(X_train)\n",
        "y_pred_test = model.predict(X_test)"
      ],
      "metadata": {
        "id": "ovydoiIG3tsu"
      },
      "execution_count": null,
      "outputs": []
    },
    {
      "cell_type": "code",
      "source": [
        "#We load one of the cat sound and we check the prediction outcome\n",
        "#aud1=glob(\"C:/Users/User/Desktop/AIMS2022-23/REVIEW BLOCK/BLOCK 3/DATA SCIENCE/GROUP ASSIGNMENT/cats_dogs/train/cat/*.wav\")\n",
        "ipd.Audio(anger[0])"
      ],
      "metadata": {
        "id": "qiu1EZTX3546",
        "colab": {
          "base_uri": "https://localhost:8080/",
          "height": 50
        },
        "outputId": "dc3fca9a-33fa-4a63-ccdf-17bb9918db37"
      },
      "execution_count": null,
      "outputs": [
        {
          "output_type": "execute_result",
          "data": {
            "text/plain": [
              "<IPython.lib.display.Audio object>"
            ],
            "text/html": [
              "\n",
              "                <audio  controls=\"controls\" >\n",
              "                    <source src=\"data:audio/x-wav;base64,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\" type=\"audio/x-wav\" />\n",
              "                    Your browser does not support the audio element.\n",
              "                </audio>\n",
              "              "
            ]
          },
          "metadata": {},
          "execution_count": 91
        }
      ]
    },
    {
      "cell_type": "code",
      "source": [
        "#We predict wether is a cat or dog audio\n",
        "audio, sample_rate=librosa.load(anger[2], res_type='kaiser_best')\n",
        "mfccs_features= librosa.feature.mfcc(y=audio, sr=sample_rate, n_mfcc=40)\n",
        "mfccs_features_scale=np.mean(mfccs_features.T, axis=0)\n",
        "x2=normalize(np.array(mfccs_features_scale.tolist()).reshape(1,40))\n",
        "y=model.predict(x2)\n",
        "y[0]"
      ],
      "metadata": {
        "colab": {
          "base_uri": "https://localhost:8080/"
        },
        "id": "Fj2ymLvn352U",
        "outputId": "eaf255d0-473b-4ac3-a0f2-64c688ff4078"
      },
      "execution_count": null,
      "outputs": [
        {
          "output_type": "execute_result",
          "data": {
            "text/plain": [
              "1"
            ]
          },
          "metadata": {},
          "execution_count": 92
        }
      ]
    },
    {
      "cell_type": "code",
      "source": [
        "#We compute the accuracy score of our model\n",
        "import sklearn.metrics\n",
        "#Training accuracy\n",
        "sklearn.metrics.accuracy_score(y_pred_train , Y_train)"
      ],
      "metadata": {
        "id": "ASGmJnBb350P",
        "colab": {
          "base_uri": "https://localhost:8080/"
        },
        "outputId": "d373e3db-fe19-4c17-87da-791c0e5d6b96"
      },
      "execution_count": null,
      "outputs": [
        {
          "output_type": "execute_result",
          "data": {
            "text/plain": [
              "1.0"
            ]
          },
          "metadata": {},
          "execution_count": 93
        }
      ]
    },
    {
      "cell_type": "code",
      "source": [
        "#Testing accuracy\n",
        "sklearn.metrics.accuracy_score(y_pred_test , Y_test)"
      ],
      "metadata": {
        "id": "X8TpThSd35xl",
        "colab": {
          "base_uri": "https://localhost:8080/"
        },
        "outputId": "768489d6-335e-485c-9bea-d431331e1d1f"
      },
      "execution_count": null,
      "outputs": [
        {
          "output_type": "execute_result",
          "data": {
            "text/plain": [
              "0.9966666666666667"
            ]
          },
          "metadata": {},
          "execution_count": 94
        }
      ]
    },
    {
      "cell_type": "code",
      "source": [
        "#Confusion matrix for training\n",
        "sklearn.metrics.confusion_matrix(Y_train,y_pred_train)"
      ],
      "metadata": {
        "id": "RSyztxN635uI",
        "colab": {
          "base_uri": "https://localhost:8080/"
        },
        "outputId": "c7c29926-d748-4008-efe8-62b9a198a0c9"
      },
      "execution_count": null,
      "outputs": [
        {
          "output_type": "execute_result",
          "data": {
            "text/plain": [
              "array([[275,   0,   0,   0,   0],\n",
              "       [  0, 279,   0,   0,   0],\n",
              "       [  0,   0, 292,   0,   0],\n",
              "       [  0,   0,   0, 289,   0],\n",
              "       [  0,   0,   0,   0, 265]])"
            ]
          },
          "metadata": {},
          "execution_count": 95
        }
      ]
    },
    {
      "cell_type": "code",
      "source": [
        "#Confusion matrix for testing\n",
        "sklearn.metrics.confusion_matrix(Y_test,y_pred_test)"
      ],
      "metadata": {
        "id": "yO5_4y2Z35rH",
        "colab": {
          "base_uri": "https://localhost:8080/"
        },
        "outputId": "4330a512-55be-4113-9a88-9bb0497b8ae9"
      },
      "execution_count": null,
      "outputs": [
        {
          "output_type": "execute_result",
          "data": {
            "text/plain": [
              "array([[125,   0,   0,   0,   0],\n",
              "       [  1, 120,   0,   0,   0],\n",
              "       [  0,   0, 108,   0,   0],\n",
              "       [  0,   0,   0, 111,   0],\n",
              "       [  0,   1,   0,   0, 134]])"
            ]
          },
          "metadata": {},
          "execution_count": 96
        }
      ]
    },
    {
      "cell_type": "code",
      "source": [
        "#F1 score for training\n",
        "sklearn.metrics.f1_score(Y_train,y_pred_train,average=\"micro\")"
      ],
      "metadata": {
        "id": "r23hj-jl35ou",
        "colab": {
          "base_uri": "https://localhost:8080/"
        },
        "outputId": "11579144-9cc2-4916-f4bf-d3689bf77aec"
      },
      "execution_count": null,
      "outputs": [
        {
          "output_type": "execute_result",
          "data": {
            "text/plain": [
              "1.0"
            ]
          },
          "metadata": {},
          "execution_count": 97
        }
      ]
    },
    {
      "cell_type": "code",
      "source": [
        "#F1 score for testing\n",
        "sklearn.metrics.f1_score(Y_test,y_pred_test,average=\"micro\")"
      ],
      "metadata": {
        "colab": {
          "base_uri": "https://localhost:8080/"
        },
        "id": "gHOUgR_835l8",
        "outputId": "83497b41-20fd-40e0-c236-b7d59dc12cac"
      },
      "execution_count": null,
      "outputs": [
        {
          "output_type": "execute_result",
          "data": {
            "text/plain": [
              "0.9966666666666667"
            ]
          },
          "metadata": {},
          "execution_count": 98
        }
      ]
    },
    {
      "cell_type": "code",
      "source": [
        "#Recall score for training\n",
        "sklearn.metrics.recall_score(Y_train,y_pred_train,average=\"micro\")"
      ],
      "metadata": {
        "colab": {
          "base_uri": "https://localhost:8080/"
        },
        "id": "OqRO_VPl35jE",
        "outputId": "ee001d0e-0033-4b94-f621-c5e454868f00"
      },
      "execution_count": null,
      "outputs": [
        {
          "output_type": "execute_result",
          "data": {
            "text/plain": [
              "1.0"
            ]
          },
          "metadata": {},
          "execution_count": 99
        }
      ]
    },
    {
      "cell_type": "code",
      "source": [
        "#Recall score for testing\n",
        "sklearn.metrics.recall_score(Y_test,y_pred_test,average=\"micro\")"
      ],
      "metadata": {
        "colab": {
          "base_uri": "https://localhost:8080/"
        },
        "id": "LpzZAZHM35e_",
        "outputId": "afac3934-fe32-4814-f8ce-be8d12d03bc9"
      },
      "execution_count": null,
      "outputs": [
        {
          "output_type": "execute_result",
          "data": {
            "text/plain": [
              "0.9966666666666667"
            ]
          },
          "metadata": {},
          "execution_count": 100
        }
      ]
    },
    {
      "cell_type": "code",
      "source": [
        "#Precision score for training\n",
        "sklearn.metrics.precision_score(Y_train,y_pred_train,average=\"micro\")"
      ],
      "metadata": {
        "colab": {
          "base_uri": "https://localhost:8080/"
        },
        "id": "2HuXqFmS35dT",
        "outputId": "938a1a1e-52e0-4ee8-f9d2-942ced424591"
      },
      "execution_count": null,
      "outputs": [
        {
          "output_type": "execute_result",
          "data": {
            "text/plain": [
              "1.0"
            ]
          },
          "metadata": {},
          "execution_count": 101
        }
      ]
    },
    {
      "cell_type": "code",
      "source": [
        "#Precision score for testing\n",
        "sklearn.metrics.precision_score(Y_test,y_pred_test,average=\"micro\")"
      ],
      "metadata": {
        "colab": {
          "base_uri": "https://localhost:8080/"
        },
        "id": "yk6tdSqC3xim",
        "outputId": "97aa1474-6c03-428e-91e4-4c02a86ac79c"
      },
      "execution_count": null,
      "outputs": [
        {
          "output_type": "execute_result",
          "data": {
            "text/plain": [
              "0.9966666666666667"
            ]
          },
          "metadata": {},
          "execution_count": 102
        }
      ]
    },
    {
      "cell_type": "code",
      "source": [
        "#We split in training and testing set with 70% for trainig and 30% for testing\n",
        "from tensorflow.keras.models import Sequential\n",
        "from tensorflow.keras.layers import Conv2D, Activation, Flatten, Dense,GlobalAveragePooling2D, Dropout\n",
        "from tensorflow.keras import metrics\n",
        "#from keras.utils import np_utils\n",
        "import tensorflow as tf\n",
        "from tensorflow.keras.optimizers import Adam\n",
        "from tensorflow.keras.initializers import RandomNormal\n",
        "from tensorflow.keras.losses import CategoricalCrossentropy\n",
        "from tensorflow.keras.utils import plot_model,to_categorical\n",
        "from keras.callbacks import EarlyStopping\n",
        "from sklearn.preprocessing import LabelEncoder\n",
        "\n",
        "from sklearn.model_selection import train_test_split\n",
        "\n",
        "le = LabelEncoder()\n",
        "y_vector1 = to_categorical(le.fit_transform(y_vector))\n",
        "X_train_NN, X_test_NN,Y_train_NN,Y_test_NN=train_test_split(X_matrix,y_vector1, test_size=0.3, random_state=0)"
      ],
      "metadata": {
        "id": "rlO0qjv85nde"
      },
      "execution_count": null,
      "outputs": []
    },
    {
      "cell_type": "code",
      "source": [
        "def network():\n",
        "\n",
        "    # Seeting a seed so we can reproduce the results\n",
        "    tf.random.set_seed(137)\n",
        "\n",
        "    # Define the initialisation method\n",
        "    initializer = RandomNormal(mean = 0.0, stddev=0.01)\n",
        "\n",
        "    # create a squential model\n",
        "    model = Sequential()\n",
        "\n",
        "    # add fully connected layer\n",
        "    model.add(Dense(40, input_dim=40, activation='relu', kernel_initializer = initializer))\n",
        "    model.add(Dense(256, activation='relu', kernel_initializer = initializer))\n",
        "    model.add(Dropout(0.4))\n",
        "    model.add(Dense(512, activation='relu', kernel_initializer = initializer))\n",
        "    model.add(Dropout(0.4))\n",
        "\n",
        "    model.add(Dense(128, activation='relu', kernel_initializer = initializer))\n",
        "    model.add(Dropout(0.4))\n",
        "    # add one fully connected output layer with a softmax activation\n",
        "    model.add(Dense(5, activation='softmax', kernel_initializer = initializer))\n",
        "\n",
        "    # Define the optimiser\n",
        "    optimiser = Adam(learning_rate=0.001)\n",
        "\n",
        "    # Define the loss function\n",
        "    loss = CategoricalCrossentropy()\n",
        "\n",
        "    # Compile model\n",
        "    model.compile(loss=loss,\n",
        "                  optimizer=optimiser,\n",
        "                  metrics=['accuracy'])\n",
        "\n",
        "    return model"
      ],
      "metadata": {
        "id": "lW0D5Go25naa"
      },
      "execution_count": null,
      "outputs": []
    },
    {
      "cell_type": "code",
      "source": [
        "model1=network()\n",
        "model1.summary()"
      ],
      "metadata": {
        "id": "XoEpHIyt5nXM",
        "colab": {
          "base_uri": "https://localhost:8080/"
        },
        "outputId": "c0a10205-1c7e-4605-8cd0-3f717bfe98b6"
      },
      "execution_count": null,
      "outputs": [
        {
          "output_type": "stream",
          "name": "stdout",
          "text": [
            "Model: \"sequential\"\n",
            "_________________________________________________________________\n",
            " Layer (type)                Output Shape              Param #   \n",
            "=================================================================\n",
            " dense (Dense)               (None, 40)                1640      \n",
            "                                                                 \n",
            " dense_1 (Dense)             (None, 256)               10496     \n",
            "                                                                 \n",
            " dropout (Dropout)           (None, 256)               0         \n",
            "                                                                 \n",
            " dense_2 (Dense)             (None, 512)               131584    \n",
            "                                                                 \n",
            " dropout_1 (Dropout)         (None, 512)               0         \n",
            "                                                                 \n",
            " dense_3 (Dense)             (None, 128)               65664     \n",
            "                                                                 \n",
            " dropout_2 (Dropout)         (None, 128)               0         \n",
            "                                                                 \n",
            " dense_4 (Dense)             (None, 5)                 645       \n",
            "                                                                 \n",
            "=================================================================\n",
            "Total params: 210029 (820.43 KB)\n",
            "Trainable params: 210029 (820.43 KB)\n",
            "Non-trainable params: 0 (0.00 Byte)\n",
            "_________________________________________________________________\n"
          ]
        },
        {
          "output_type": "stream",
          "name": "stderr",
          "text": [
            "/usr/local/lib/python3.10/dist-packages/keras/src/initializers/initializers.py:120: UserWarning: The initializer RandomNormal is unseeded and being called multiple times, which will return identical values each time (even if the initializer is unseeded). Please update your code to provide a seed to the initializer, or avoid using the same initializer instance more than once.\n",
            "  warnings.warn(\n"
          ]
        }
      ]
    },
    {
      "cell_type": "code",
      "source": [
        "earlystop = EarlyStopping(monitor='val_loss', patience=3, verbose=1, mode='auto')\n",
        "history1 = model1.fit(X_train_NN, Y_train_NN,epochs=300)"
      ],
      "metadata": {
        "id": "jbAKwUGV5nUt",
        "colab": {
          "base_uri": "https://localhost:8080/"
        },
        "outputId": "49fd9750-3a30-4b91-d907-c69b12c7fe78"
      },
      "execution_count": null,
      "outputs": [
        {
          "output_type": "stream",
          "name": "stdout",
          "text": [
            "Epoch 1/300\n",
            "44/44 [==============================] - 2s 8ms/step - loss: 1.6097 - accuracy: 0.1943\n",
            "Epoch 2/300\n",
            "44/44 [==============================] - 0s 8ms/step - loss: 1.6094 - accuracy: 0.1886\n",
            "Epoch 3/300\n",
            "44/44 [==============================] - 0s 7ms/step - loss: 1.6093 - accuracy: 0.2086\n",
            "Epoch 4/300\n",
            "44/44 [==============================] - 0s 6ms/step - loss: 1.6091 - accuracy: 0.2086\n",
            "Epoch 5/300\n",
            "44/44 [==============================] - 0s 7ms/step - loss: 1.4727 - accuracy: 0.2893\n",
            "Epoch 6/300\n",
            "44/44 [==============================] - 0s 7ms/step - loss: 1.2078 - accuracy: 0.4186\n",
            "Epoch 7/300\n",
            "44/44 [==============================] - 0s 7ms/step - loss: 1.0622 - accuracy: 0.4750\n",
            "Epoch 8/300\n",
            "44/44 [==============================] - 0s 8ms/step - loss: 0.9391 - accuracy: 0.5614\n",
            "Epoch 9/300\n",
            "44/44 [==============================] - 0s 7ms/step - loss: 0.7688 - accuracy: 0.6414\n",
            "Epoch 10/300\n",
            "44/44 [==============================] - 0s 7ms/step - loss: 0.7187 - accuracy: 0.6464\n",
            "Epoch 11/300\n",
            "44/44 [==============================] - 0s 7ms/step - loss: 0.6201 - accuracy: 0.7107\n",
            "Epoch 12/300\n",
            "44/44 [==============================] - 0s 7ms/step - loss: 0.6325 - accuracy: 0.6971\n",
            "Epoch 13/300\n",
            "44/44 [==============================] - 0s 7ms/step - loss: 0.6600 - accuracy: 0.6957\n",
            "Epoch 14/300\n",
            "44/44 [==============================] - 0s 8ms/step - loss: 0.5971 - accuracy: 0.7086\n",
            "Epoch 15/300\n",
            "44/44 [==============================] - 0s 8ms/step - loss: 0.5863 - accuracy: 0.7200\n",
            "Epoch 16/300\n",
            "44/44 [==============================] - 0s 7ms/step - loss: 0.5517 - accuracy: 0.7229\n",
            "Epoch 17/300\n",
            "44/44 [==============================] - 0s 7ms/step - loss: 0.5508 - accuracy: 0.7279\n",
            "Epoch 18/300\n",
            "44/44 [==============================] - 1s 12ms/step - loss: 0.5632 - accuracy: 0.7071\n",
            "Epoch 19/300\n",
            "44/44 [==============================] - 1s 17ms/step - loss: 0.5093 - accuracy: 0.7557\n",
            "Epoch 20/300\n",
            "44/44 [==============================] - 1s 23ms/step - loss: 0.5058 - accuracy: 0.7436\n",
            "Epoch 21/300\n",
            "44/44 [==============================] - 1s 18ms/step - loss: 0.4907 - accuracy: 0.7457\n",
            "Epoch 22/300\n",
            "44/44 [==============================] - 1s 19ms/step - loss: 0.4977 - accuracy: 0.7571\n",
            "Epoch 23/300\n",
            "44/44 [==============================] - 1s 19ms/step - loss: 0.4854 - accuracy: 0.7514\n",
            "Epoch 24/300\n",
            "44/44 [==============================] - 1s 24ms/step - loss: 0.4953 - accuracy: 0.7350\n",
            "Epoch 25/300\n",
            "44/44 [==============================] - 1s 16ms/step - loss: 0.4605 - accuracy: 0.7864\n",
            "Epoch 26/300\n",
            "44/44 [==============================] - 1s 15ms/step - loss: 0.4523 - accuracy: 0.7850\n",
            "Epoch 27/300\n",
            "44/44 [==============================] - 1s 15ms/step - loss: 0.4406 - accuracy: 0.7821\n",
            "Epoch 28/300\n",
            "44/44 [==============================] - 1s 14ms/step - loss: 0.4305 - accuracy: 0.7993\n",
            "Epoch 29/300\n",
            "44/44 [==============================] - 1s 15ms/step - loss: 0.4134 - accuracy: 0.8100\n",
            "Epoch 30/300\n",
            "44/44 [==============================] - 1s 15ms/step - loss: 0.4181 - accuracy: 0.8079\n",
            "Epoch 31/300\n",
            "44/44 [==============================] - 1s 16ms/step - loss: 0.4061 - accuracy: 0.8157\n",
            "Epoch 32/300\n",
            "44/44 [==============================] - 1s 15ms/step - loss: 0.4185 - accuracy: 0.8143\n",
            "Epoch 33/300\n",
            "44/44 [==============================] - 1s 14ms/step - loss: 0.3763 - accuracy: 0.8371\n",
            "Epoch 34/300\n",
            "44/44 [==============================] - 1s 15ms/step - loss: 0.3710 - accuracy: 0.8443\n",
            "Epoch 35/300\n",
            "44/44 [==============================] - 1s 18ms/step - loss: 0.3532 - accuracy: 0.8414\n",
            "Epoch 36/300\n",
            "44/44 [==============================] - 1s 19ms/step - loss: 0.3724 - accuracy: 0.8529\n",
            "Epoch 37/300\n",
            "44/44 [==============================] - 1s 19ms/step - loss: 0.3483 - accuracy: 0.8557\n",
            "Epoch 38/300\n",
            "44/44 [==============================] - 1s 19ms/step - loss: 0.3965 - accuracy: 0.8414\n",
            "Epoch 39/300\n",
            "44/44 [==============================] - 2s 36ms/step - loss: 0.3312 - accuracy: 0.8736\n",
            "Epoch 40/300\n",
            "44/44 [==============================] - 1s 34ms/step - loss: 0.3209 - accuracy: 0.8807\n",
            "Epoch 41/300\n",
            "44/44 [==============================] - 2s 53ms/step - loss: 0.3143 - accuracy: 0.8771\n",
            "Epoch 42/300\n",
            "44/44 [==============================] - 1s 33ms/step - loss: 0.3412 - accuracy: 0.8793\n",
            "Epoch 43/300\n",
            "44/44 [==============================] - 1s 20ms/step - loss: 0.3017 - accuracy: 0.8879\n",
            "Epoch 44/300\n",
            "44/44 [==============================] - 1s 19ms/step - loss: 0.3339 - accuracy: 0.8721\n",
            "Epoch 45/300\n",
            "44/44 [==============================] - 1s 13ms/step - loss: 0.2908 - accuracy: 0.9007\n",
            "Epoch 46/300\n",
            "44/44 [==============================] - 1s 14ms/step - loss: 0.2997 - accuracy: 0.8979\n",
            "Epoch 47/300\n",
            "44/44 [==============================] - 1s 15ms/step - loss: 0.3023 - accuracy: 0.8929\n",
            "Epoch 48/300\n",
            "44/44 [==============================] - 1s 13ms/step - loss: 0.2877 - accuracy: 0.8943\n",
            "Epoch 49/300\n",
            "44/44 [==============================] - 1s 14ms/step - loss: 0.2736 - accuracy: 0.8986\n",
            "Epoch 50/300\n",
            "44/44 [==============================] - 1s 14ms/step - loss: 0.2825 - accuracy: 0.8979\n",
            "Epoch 51/300\n",
            "44/44 [==============================] - 1s 15ms/step - loss: 0.2998 - accuracy: 0.9007\n",
            "Epoch 52/300\n",
            "44/44 [==============================] - 1s 17ms/step - loss: 0.2575 - accuracy: 0.9071\n",
            "Epoch 53/300\n",
            "44/44 [==============================] - 1s 13ms/step - loss: 0.2730 - accuracy: 0.9000\n",
            "Epoch 54/300\n",
            "44/44 [==============================] - 1s 15ms/step - loss: 0.2616 - accuracy: 0.9171\n",
            "Epoch 55/300\n",
            "44/44 [==============================] - 1s 16ms/step - loss: 0.2436 - accuracy: 0.9114\n",
            "Epoch 56/300\n",
            "44/44 [==============================] - 1s 16ms/step - loss: 0.2280 - accuracy: 0.9236\n",
            "Epoch 57/300\n",
            "44/44 [==============================] - 1s 15ms/step - loss: 0.2505 - accuracy: 0.9121\n",
            "Epoch 58/300\n",
            "44/44 [==============================] - 1s 14ms/step - loss: 0.2503 - accuracy: 0.9121\n",
            "Epoch 59/300\n",
            "44/44 [==============================] - 1s 16ms/step - loss: 0.2204 - accuracy: 0.9193\n",
            "Epoch 60/300\n",
            "44/44 [==============================] - 1s 22ms/step - loss: 0.2537 - accuracy: 0.9157\n",
            "Epoch 61/300\n",
            "44/44 [==============================] - 1s 22ms/step - loss: 0.2203 - accuracy: 0.9150\n",
            "Epoch 62/300\n",
            "44/44 [==============================] - 1s 22ms/step - loss: 0.2377 - accuracy: 0.9129\n",
            "Epoch 63/300\n",
            "44/44 [==============================] - 1s 21ms/step - loss: 0.2122 - accuracy: 0.9321\n",
            "Epoch 64/300\n",
            "44/44 [==============================] - 1s 14ms/step - loss: 0.2097 - accuracy: 0.9314\n",
            "Epoch 65/300\n",
            "44/44 [==============================] - 0s 9ms/step - loss: 0.2497 - accuracy: 0.9150\n",
            "Epoch 66/300\n",
            "44/44 [==============================] - 0s 7ms/step - loss: 0.2214 - accuracy: 0.9207\n",
            "Epoch 67/300\n",
            "44/44 [==============================] - 0s 8ms/step - loss: 0.2187 - accuracy: 0.9264\n",
            "Epoch 68/300\n",
            "44/44 [==============================] - 0s 6ms/step - loss: 0.2009 - accuracy: 0.9321\n",
            "Epoch 69/300\n",
            "44/44 [==============================] - 0s 6ms/step - loss: 0.1863 - accuracy: 0.9407\n",
            "Epoch 70/300\n",
            "44/44 [==============================] - 0s 6ms/step - loss: 0.1827 - accuracy: 0.9421\n",
            "Epoch 71/300\n",
            "44/44 [==============================] - 0s 7ms/step - loss: 0.1908 - accuracy: 0.9429\n",
            "Epoch 72/300\n",
            "44/44 [==============================] - 0s 7ms/step - loss: 0.1914 - accuracy: 0.9371\n",
            "Epoch 73/300\n",
            "44/44 [==============================] - 0s 7ms/step - loss: 0.1675 - accuracy: 0.9421\n",
            "Epoch 74/300\n",
            "44/44 [==============================] - 0s 8ms/step - loss: 0.1529 - accuracy: 0.9536\n",
            "Epoch 75/300\n",
            "44/44 [==============================] - 0s 7ms/step - loss: 0.1516 - accuracy: 0.9543\n",
            "Epoch 76/300\n",
            "44/44 [==============================] - 0s 7ms/step - loss: 0.1494 - accuracy: 0.9571\n",
            "Epoch 77/300\n",
            "44/44 [==============================] - 0s 9ms/step - loss: 0.1553 - accuracy: 0.9479\n",
            "Epoch 78/300\n",
            "44/44 [==============================] - 0s 7ms/step - loss: 0.1398 - accuracy: 0.9550\n",
            "Epoch 79/300\n",
            "44/44 [==============================] - 0s 7ms/step - loss: 0.1472 - accuracy: 0.9536\n",
            "Epoch 80/300\n",
            "44/44 [==============================] - 0s 7ms/step - loss: 0.1550 - accuracy: 0.9571\n",
            "Epoch 81/300\n",
            "44/44 [==============================] - 0s 7ms/step - loss: 0.1788 - accuracy: 0.9479\n",
            "Epoch 82/300\n",
            "44/44 [==============================] - 0s 7ms/step - loss: 0.1342 - accuracy: 0.9621\n",
            "Epoch 83/300\n",
            "44/44 [==============================] - 0s 7ms/step - loss: 0.1524 - accuracy: 0.9557\n",
            "Epoch 84/300\n",
            "44/44 [==============================] - 0s 8ms/step - loss: 0.1271 - accuracy: 0.9557\n",
            "Epoch 85/300\n",
            "44/44 [==============================] - 0s 7ms/step - loss: 0.1233 - accuracy: 0.9593\n",
            "Epoch 86/300\n",
            "44/44 [==============================] - 0s 7ms/step - loss: 0.1416 - accuracy: 0.9521\n",
            "Epoch 87/300\n",
            "44/44 [==============================] - 0s 8ms/step - loss: 0.1148 - accuracy: 0.9729\n",
            "Epoch 88/300\n",
            "44/44 [==============================] - 0s 7ms/step - loss: 0.0998 - accuracy: 0.9700\n",
            "Epoch 89/300\n",
            "44/44 [==============================] - 0s 7ms/step - loss: 0.1089 - accuracy: 0.9650\n",
            "Epoch 90/300\n",
            "44/44 [==============================] - 0s 8ms/step - loss: 0.1039 - accuracy: 0.9679\n",
            "Epoch 91/300\n",
            "44/44 [==============================] - 0s 7ms/step - loss: 0.1244 - accuracy: 0.9621\n",
            "Epoch 92/300\n",
            "44/44 [==============================] - 0s 7ms/step - loss: 0.1088 - accuracy: 0.9671\n",
            "Epoch 93/300\n",
            "44/44 [==============================] - 0s 8ms/step - loss: 0.1146 - accuracy: 0.9686\n",
            "Epoch 94/300\n",
            "44/44 [==============================] - 0s 7ms/step - loss: 0.1059 - accuracy: 0.9729\n",
            "Epoch 95/300\n",
            "44/44 [==============================] - 0s 7ms/step - loss: 0.0995 - accuracy: 0.9757\n",
            "Epoch 96/300\n",
            "44/44 [==============================] - 1s 13ms/step - loss: 0.1104 - accuracy: 0.9650\n",
            "Epoch 97/300\n",
            "44/44 [==============================] - 1s 12ms/step - loss: 0.1165 - accuracy: 0.9707\n",
            "Epoch 98/300\n",
            "44/44 [==============================] - 1s 12ms/step - loss: 0.1159 - accuracy: 0.9679\n",
            "Epoch 99/300\n",
            "44/44 [==============================] - 1s 12ms/step - loss: 0.0966 - accuracy: 0.9750\n",
            "Epoch 100/300\n",
            "44/44 [==============================] - 1s 12ms/step - loss: 0.0973 - accuracy: 0.9743\n",
            "Epoch 101/300\n",
            "44/44 [==============================] - 1s 12ms/step - loss: 0.1173 - accuracy: 0.9679\n",
            "Epoch 102/300\n",
            "44/44 [==============================] - 1s 12ms/step - loss: 0.1066 - accuracy: 0.9729\n",
            "Epoch 103/300\n",
            "44/44 [==============================] - 0s 11ms/step - loss: 0.0775 - accuracy: 0.9771\n",
            "Epoch 104/300\n",
            "44/44 [==============================] - 0s 9ms/step - loss: 0.0700 - accuracy: 0.9821\n",
            "Epoch 105/300\n",
            "44/44 [==============================] - 0s 7ms/step - loss: 0.0864 - accuracy: 0.9750\n",
            "Epoch 106/300\n",
            "44/44 [==============================] - 0s 7ms/step - loss: 0.0990 - accuracy: 0.9714\n",
            "Epoch 107/300\n",
            "44/44 [==============================] - 0s 7ms/step - loss: 0.1073 - accuracy: 0.9736\n",
            "Epoch 108/300\n",
            "44/44 [==============================] - 0s 7ms/step - loss: 0.0843 - accuracy: 0.9771\n",
            "Epoch 109/300\n",
            "44/44 [==============================] - 0s 7ms/step - loss: 0.0912 - accuracy: 0.9814\n",
            "Epoch 110/300\n",
            "44/44 [==============================] - 0s 7ms/step - loss: 0.0917 - accuracy: 0.9729\n",
            "Epoch 111/300\n",
            "44/44 [==============================] - 0s 7ms/step - loss: 0.0895 - accuracy: 0.9764\n",
            "Epoch 112/300\n",
            "44/44 [==============================] - 0s 7ms/step - loss: 0.0954 - accuracy: 0.9721\n",
            "Epoch 113/300\n",
            "44/44 [==============================] - 0s 8ms/step - loss: 0.0794 - accuracy: 0.9843\n",
            "Epoch 114/300\n",
            "44/44 [==============================] - 0s 7ms/step - loss: 0.0730 - accuracy: 0.9793\n",
            "Epoch 115/300\n",
            "44/44 [==============================] - 0s 7ms/step - loss: 0.0703 - accuracy: 0.9779\n",
            "Epoch 116/300\n",
            "44/44 [==============================] - 0s 8ms/step - loss: 0.0962 - accuracy: 0.9764\n",
            "Epoch 117/300\n",
            "44/44 [==============================] - 0s 7ms/step - loss: 0.0878 - accuracy: 0.9764\n",
            "Epoch 118/300\n",
            "44/44 [==============================] - 0s 7ms/step - loss: 0.0815 - accuracy: 0.9771\n",
            "Epoch 119/300\n",
            "44/44 [==============================] - 0s 6ms/step - loss: 0.0829 - accuracy: 0.9750\n",
            "Epoch 120/300\n",
            "44/44 [==============================] - 0s 6ms/step - loss: 0.0904 - accuracy: 0.9786\n",
            "Epoch 121/300\n",
            "44/44 [==============================] - 0s 6ms/step - loss: 0.0743 - accuracy: 0.9814\n",
            "Epoch 122/300\n",
            "44/44 [==============================] - 0s 7ms/step - loss: 0.0576 - accuracy: 0.9843\n",
            "Epoch 123/300\n",
            "44/44 [==============================] - 0s 7ms/step - loss: 0.0538 - accuracy: 0.9886\n",
            "Epoch 124/300\n",
            "44/44 [==============================] - 0s 7ms/step - loss: 0.0656 - accuracy: 0.9793\n",
            "Epoch 125/300\n",
            "44/44 [==============================] - 0s 7ms/step - loss: 0.0947 - accuracy: 0.9764\n",
            "Epoch 126/300\n",
            "44/44 [==============================] - 0s 7ms/step - loss: 0.0571 - accuracy: 0.9807\n",
            "Epoch 127/300\n",
            "44/44 [==============================] - 0s 7ms/step - loss: 0.0590 - accuracy: 0.9893\n",
            "Epoch 128/300\n",
            "44/44 [==============================] - 0s 7ms/step - loss: 0.0715 - accuracy: 0.9771\n",
            "Epoch 129/300\n",
            "44/44 [==============================] - 0s 8ms/step - loss: 0.0615 - accuracy: 0.9850\n",
            "Epoch 130/300\n",
            "44/44 [==============================] - 0s 8ms/step - loss: 0.0676 - accuracy: 0.9857\n",
            "Epoch 131/300\n",
            "44/44 [==============================] - 0s 7ms/step - loss: 0.0593 - accuracy: 0.9836\n",
            "Epoch 132/300\n",
            "44/44 [==============================] - 0s 8ms/step - loss: 0.0486 - accuracy: 0.9850\n",
            "Epoch 133/300\n",
            "44/44 [==============================] - 0s 10ms/step - loss: 0.0523 - accuracy: 0.9893\n",
            "Epoch 134/300\n",
            "44/44 [==============================] - 1s 13ms/step - loss: 0.0675 - accuracy: 0.9807\n",
            "Epoch 135/300\n",
            "44/44 [==============================] - 1s 12ms/step - loss: 0.0558 - accuracy: 0.9829\n",
            "Epoch 136/300\n",
            "44/44 [==============================] - 1s 13ms/step - loss: 0.0485 - accuracy: 0.9886\n",
            "Epoch 137/300\n",
            "44/44 [==============================] - 1s 13ms/step - loss: 0.0487 - accuracy: 0.9879\n",
            "Epoch 138/300\n",
            "44/44 [==============================] - 1s 12ms/step - loss: 0.0517 - accuracy: 0.9850\n",
            "Epoch 139/300\n",
            "44/44 [==============================] - 1s 13ms/step - loss: 0.0704 - accuracy: 0.9814\n",
            "Epoch 140/300\n",
            "44/44 [==============================] - 1s 13ms/step - loss: 0.0568 - accuracy: 0.9871\n",
            "Epoch 141/300\n",
            "44/44 [==============================] - 0s 7ms/step - loss: 0.0468 - accuracy: 0.9879\n",
            "Epoch 142/300\n",
            "44/44 [==============================] - 0s 6ms/step - loss: 0.0557 - accuracy: 0.9850\n",
            "Epoch 143/300\n",
            "44/44 [==============================] - 0s 6ms/step - loss: 0.0631 - accuracy: 0.9793\n",
            "Epoch 144/300\n",
            "44/44 [==============================] - 0s 7ms/step - loss: 0.0930 - accuracy: 0.9779\n",
            "Epoch 145/300\n",
            "44/44 [==============================] - 0s 7ms/step - loss: 0.0419 - accuracy: 0.9893\n",
            "Epoch 146/300\n",
            "44/44 [==============================] - 0s 7ms/step - loss: 0.0602 - accuracy: 0.9843\n",
            "Epoch 147/300\n",
            "44/44 [==============================] - 0s 8ms/step - loss: 0.0372 - accuracy: 0.9886\n",
            "Epoch 148/300\n",
            "44/44 [==============================] - 0s 7ms/step - loss: 0.0555 - accuracy: 0.9850\n",
            "Epoch 149/300\n",
            "44/44 [==============================] - 0s 7ms/step - loss: 0.0508 - accuracy: 0.9879\n",
            "Epoch 150/300\n",
            "44/44 [==============================] - 0s 7ms/step - loss: 0.0614 - accuracy: 0.9836\n",
            "Epoch 151/300\n",
            "44/44 [==============================] - 0s 8ms/step - loss: 0.0577 - accuracy: 0.9821\n",
            "Epoch 152/300\n",
            "44/44 [==============================] - 0s 8ms/step - loss: 0.0564 - accuracy: 0.9864\n",
            "Epoch 153/300\n",
            "44/44 [==============================] - 0s 8ms/step - loss: 0.0609 - accuracy: 0.9864\n",
            "Epoch 154/300\n",
            "44/44 [==============================] - 0s 7ms/step - loss: 0.0491 - accuracy: 0.9857\n",
            "Epoch 155/300\n",
            "44/44 [==============================] - 0s 7ms/step - loss: 0.0340 - accuracy: 0.9907\n",
            "Epoch 156/300\n",
            "44/44 [==============================] - 0s 7ms/step - loss: 0.0570 - accuracy: 0.9850\n",
            "Epoch 157/300\n",
            "44/44 [==============================] - 0s 7ms/step - loss: 0.0387 - accuracy: 0.9893\n",
            "Epoch 158/300\n",
            "44/44 [==============================] - 0s 7ms/step - loss: 0.0470 - accuracy: 0.9893\n",
            "Epoch 159/300\n",
            "44/44 [==============================] - 0s 8ms/step - loss: 0.0473 - accuracy: 0.9864\n",
            "Epoch 160/300\n",
            "44/44 [==============================] - 0s 7ms/step - loss: 0.0572 - accuracy: 0.9821\n",
            "Epoch 161/300\n",
            "44/44 [==============================] - 0s 8ms/step - loss: 0.0510 - accuracy: 0.9900\n",
            "Epoch 162/300\n",
            "44/44 [==============================] - 0s 8ms/step - loss: 0.0565 - accuracy: 0.9857\n",
            "Epoch 163/300\n",
            "44/44 [==============================] - 0s 7ms/step - loss: 0.0393 - accuracy: 0.9893\n",
            "Epoch 164/300\n",
            "44/44 [==============================] - 0s 7ms/step - loss: 0.0345 - accuracy: 0.9929\n",
            "Epoch 165/300\n",
            "44/44 [==============================] - 0s 8ms/step - loss: 0.0520 - accuracy: 0.9886\n",
            "Epoch 166/300\n",
            "44/44 [==============================] - 0s 8ms/step - loss: 0.0368 - accuracy: 0.9871\n",
            "Epoch 167/300\n",
            "44/44 [==============================] - 0s 7ms/step - loss: 0.0412 - accuracy: 0.9864\n",
            "Epoch 168/300\n",
            "44/44 [==============================] - 0s 8ms/step - loss: 0.0390 - accuracy: 0.9936\n",
            "Epoch 169/300\n",
            "44/44 [==============================] - 0s 7ms/step - loss: 0.0408 - accuracy: 0.9907\n",
            "Epoch 170/300\n",
            "44/44 [==============================] - 0s 7ms/step - loss: 0.0491 - accuracy: 0.9900\n",
            "Epoch 171/300\n",
            "44/44 [==============================] - 1s 14ms/step - loss: 0.0426 - accuracy: 0.9871\n",
            "Epoch 172/300\n",
            "44/44 [==============================] - 1s 13ms/step - loss: 0.0336 - accuracy: 0.9893\n",
            "Epoch 173/300\n",
            "44/44 [==============================] - 1s 13ms/step - loss: 0.0375 - accuracy: 0.9907\n",
            "Epoch 174/300\n",
            "44/44 [==============================] - 1s 13ms/step - loss: 0.0717 - accuracy: 0.9836\n",
            "Epoch 175/300\n",
            "44/44 [==============================] - 1s 12ms/step - loss: 0.0542 - accuracy: 0.9864\n",
            "Epoch 176/300\n",
            "44/44 [==============================] - 1s 13ms/step - loss: 0.0499 - accuracy: 0.9879\n",
            "Epoch 177/300\n",
            "44/44 [==============================] - 1s 13ms/step - loss: 0.0349 - accuracy: 0.9900\n",
            "Epoch 178/300\n",
            "44/44 [==============================] - 0s 8ms/step - loss: 0.0861 - accuracy: 0.9821\n",
            "Epoch 179/300\n",
            "44/44 [==============================] - 0s 8ms/step - loss: 0.0465 - accuracy: 0.9879\n",
            "Epoch 180/300\n",
            "44/44 [==============================] - 0s 7ms/step - loss: 0.0360 - accuracy: 0.9893\n",
            "Epoch 181/300\n",
            "44/44 [==============================] - 0s 7ms/step - loss: 0.0324 - accuracy: 0.9914\n",
            "Epoch 182/300\n",
            "44/44 [==============================] - 0s 8ms/step - loss: 0.0226 - accuracy: 0.9921\n",
            "Epoch 183/300\n",
            "44/44 [==============================] - 0s 7ms/step - loss: 0.0426 - accuracy: 0.9900\n",
            "Epoch 184/300\n",
            "44/44 [==============================] - 0s 7ms/step - loss: 0.0277 - accuracy: 0.9921\n",
            "Epoch 185/300\n",
            "44/44 [==============================] - 0s 8ms/step - loss: 0.0400 - accuracy: 0.9914\n",
            "Epoch 186/300\n",
            "44/44 [==============================] - 0s 7ms/step - loss: 0.0500 - accuracy: 0.9857\n",
            "Epoch 187/300\n",
            "44/44 [==============================] - 0s 7ms/step - loss: 0.0378 - accuracy: 0.9893\n",
            "Epoch 188/300\n",
            "44/44 [==============================] - 0s 8ms/step - loss: 0.0383 - accuracy: 0.9900\n",
            "Epoch 189/300\n",
            "44/44 [==============================] - 0s 7ms/step - loss: 0.0246 - accuracy: 0.9914\n",
            "Epoch 190/300\n",
            "44/44 [==============================] - 0s 7ms/step - loss: 0.0520 - accuracy: 0.9871\n",
            "Epoch 191/300\n",
            "44/44 [==============================] - 0s 8ms/step - loss: 0.0410 - accuracy: 0.9893\n",
            "Epoch 192/300\n",
            "44/44 [==============================] - 0s 7ms/step - loss: 0.0232 - accuracy: 0.9936\n",
            "Epoch 193/300\n",
            "44/44 [==============================] - 0s 6ms/step - loss: 0.0249 - accuracy: 0.9936\n",
            "Epoch 194/300\n",
            "44/44 [==============================] - 0s 6ms/step - loss: 0.0241 - accuracy: 0.9936\n",
            "Epoch 195/300\n",
            "44/44 [==============================] - 0s 7ms/step - loss: 0.0305 - accuracy: 0.9921\n",
            "Epoch 196/300\n",
            "44/44 [==============================] - 0s 7ms/step - loss: 0.0212 - accuracy: 0.9964\n",
            "Epoch 197/300\n",
            "44/44 [==============================] - 0s 7ms/step - loss: 0.0281 - accuracy: 0.9950\n",
            "Epoch 198/300\n",
            "44/44 [==============================] - 0s 7ms/step - loss: 0.0234 - accuracy: 0.9936\n",
            "Epoch 199/300\n",
            "44/44 [==============================] - 0s 7ms/step - loss: 0.0336 - accuracy: 0.9900\n",
            "Epoch 200/300\n",
            "44/44 [==============================] - 0s 7ms/step - loss: 0.0230 - accuracy: 0.9943\n",
            "Epoch 201/300\n",
            "44/44 [==============================] - 0s 7ms/step - loss: 0.0414 - accuracy: 0.9886\n",
            "Epoch 202/300\n",
            "44/44 [==============================] - 0s 8ms/step - loss: 0.0238 - accuracy: 0.9907\n",
            "Epoch 203/300\n",
            "44/44 [==============================] - 0s 7ms/step - loss: 0.0465 - accuracy: 0.9864\n",
            "Epoch 204/300\n",
            "44/44 [==============================] - 0s 7ms/step - loss: 0.0365 - accuracy: 0.9907\n",
            "Epoch 205/300\n",
            "44/44 [==============================] - 0s 7ms/step - loss: 0.0353 - accuracy: 0.9921\n",
            "Epoch 206/300\n",
            "44/44 [==============================] - 0s 8ms/step - loss: 0.0292 - accuracy: 0.9929\n",
            "Epoch 207/300\n",
            "44/44 [==============================] - 0s 7ms/step - loss: 0.0213 - accuracy: 0.9950\n",
            "Epoch 208/300\n",
            "44/44 [==============================] - 0s 10ms/step - loss: 0.0347 - accuracy: 0.9914\n",
            "Epoch 209/300\n",
            "44/44 [==============================] - 1s 12ms/step - loss: 0.0340 - accuracy: 0.9936\n",
            "Epoch 210/300\n",
            "44/44 [==============================] - 1s 13ms/step - loss: 0.0341 - accuracy: 0.9921\n",
            "Epoch 211/300\n",
            "44/44 [==============================] - 1s 13ms/step - loss: 0.0184 - accuracy: 0.9943\n",
            "Epoch 212/300\n",
            "44/44 [==============================] - 1s 12ms/step - loss: 0.0239 - accuracy: 0.9921\n",
            "Epoch 213/300\n",
            "44/44 [==============================] - 1s 13ms/step - loss: 0.0146 - accuracy: 0.9957\n",
            "Epoch 214/300\n",
            "44/44 [==============================] - 1s 14ms/step - loss: 0.0285 - accuracy: 0.9921\n",
            "Epoch 215/300\n",
            "44/44 [==============================] - 1s 13ms/step - loss: 0.0356 - accuracy: 0.9879\n",
            "Epoch 216/300\n",
            "44/44 [==============================] - 0s 8ms/step - loss: 0.0267 - accuracy: 0.9929\n",
            "Epoch 217/300\n",
            "44/44 [==============================] - 0s 8ms/step - loss: 0.0182 - accuracy: 0.9950\n",
            "Epoch 218/300\n",
            "44/44 [==============================] - 0s 7ms/step - loss: 0.0486 - accuracy: 0.9921\n",
            "Epoch 219/300\n",
            "44/44 [==============================] - 0s 7ms/step - loss: 0.0405 - accuracy: 0.9907\n",
            "Epoch 220/300\n",
            "44/44 [==============================] - 0s 7ms/step - loss: 0.0585 - accuracy: 0.9893\n",
            "Epoch 221/300\n",
            "44/44 [==============================] - 0s 8ms/step - loss: 0.0168 - accuracy: 0.9971\n",
            "Epoch 222/300\n",
            "44/44 [==============================] - 0s 8ms/step - loss: 0.0196 - accuracy: 0.9921\n",
            "Epoch 223/300\n",
            "44/44 [==============================] - 0s 7ms/step - loss: 0.0289 - accuracy: 0.9936\n",
            "Epoch 224/300\n",
            "44/44 [==============================] - 0s 8ms/step - loss: 0.0170 - accuracy: 0.9964\n",
            "Epoch 225/300\n",
            "44/44 [==============================] - 0s 7ms/step - loss: 0.0707 - accuracy: 0.9836\n",
            "Epoch 226/300\n",
            "44/44 [==============================] - 0s 7ms/step - loss: 0.0408 - accuracy: 0.9886\n",
            "Epoch 227/300\n",
            "44/44 [==============================] - 0s 8ms/step - loss: 0.0520 - accuracy: 0.9864\n",
            "Epoch 228/300\n",
            "44/44 [==============================] - 0s 7ms/step - loss: 0.0235 - accuracy: 0.9971\n",
            "Epoch 229/300\n",
            "44/44 [==============================] - 0s 7ms/step - loss: 0.0217 - accuracy: 0.9971\n",
            "Epoch 230/300\n",
            "44/44 [==============================] - 0s 8ms/step - loss: 0.0130 - accuracy: 0.9986\n",
            "Epoch 231/300\n",
            "44/44 [==============================] - 0s 7ms/step - loss: 0.0135 - accuracy: 0.9979\n",
            "Epoch 232/300\n",
            "44/44 [==============================] - 0s 7ms/step - loss: 0.0260 - accuracy: 0.9943\n",
            "Epoch 233/300\n",
            "44/44 [==============================] - 0s 8ms/step - loss: 0.0179 - accuracy: 0.9950\n",
            "Epoch 234/300\n",
            "44/44 [==============================] - 0s 7ms/step - loss: 0.0248 - accuracy: 0.9936\n",
            "Epoch 235/300\n",
            "44/44 [==============================] - 0s 8ms/step - loss: 0.0211 - accuracy: 0.9964\n",
            "Epoch 236/300\n",
            "44/44 [==============================] - 0s 9ms/step - loss: 0.0160 - accuracy: 0.9971\n",
            "Epoch 237/300\n",
            "44/44 [==============================] - 0s 8ms/step - loss: 0.0165 - accuracy: 0.9957\n",
            "Epoch 238/300\n",
            "44/44 [==============================] - 0s 7ms/step - loss: 0.0117 - accuracy: 0.9957\n",
            "Epoch 239/300\n",
            "44/44 [==============================] - 0s 8ms/step - loss: 0.0194 - accuracy: 0.9943\n",
            "Epoch 240/300\n",
            "44/44 [==============================] - 0s 8ms/step - loss: 0.0397 - accuracy: 0.9936\n",
            "Epoch 241/300\n",
            "44/44 [==============================] - 0s 7ms/step - loss: 0.0283 - accuracy: 0.9929\n",
            "Epoch 242/300\n",
            "44/44 [==============================] - 0s 8ms/step - loss: 0.0254 - accuracy: 0.9950\n",
            "Epoch 243/300\n",
            "44/44 [==============================] - 0s 8ms/step - loss: 0.0200 - accuracy: 0.9950\n",
            "Epoch 244/300\n",
            "44/44 [==============================] - 0s 8ms/step - loss: 0.0123 - accuracy: 0.9957\n",
            "Epoch 245/300\n",
            "44/44 [==============================] - 1s 14ms/step - loss: 0.0074 - accuracy: 0.9979\n",
            "Epoch 246/300\n",
            "44/44 [==============================] - 0s 11ms/step - loss: 0.0341 - accuracy: 0.9914\n",
            "Epoch 247/300\n",
            "44/44 [==============================] - 0s 11ms/step - loss: 0.0078 - accuracy: 0.9993\n",
            "Epoch 248/300\n",
            "44/44 [==============================] - 1s 12ms/step - loss: 0.0186 - accuracy: 0.9971\n",
            "Epoch 249/300\n",
            "44/44 [==============================] - 1s 12ms/step - loss: 0.0070 - accuracy: 0.9993\n",
            "Epoch 250/300\n",
            "44/44 [==============================] - 1s 13ms/step - loss: 0.0166 - accuracy: 0.9950\n",
            "Epoch 251/300\n",
            "44/44 [==============================] - 1s 13ms/step - loss: 0.0145 - accuracy: 0.9950\n",
            "Epoch 252/300\n",
            "44/44 [==============================] - 0s 10ms/step - loss: 0.0201 - accuracy: 0.9964\n",
            "Epoch 253/300\n",
            "44/44 [==============================] - 0s 8ms/step - loss: 0.0286 - accuracy: 0.9957\n",
            "Epoch 254/300\n",
            "44/44 [==============================] - 0s 7ms/step - loss: 0.0190 - accuracy: 0.9936\n",
            "Epoch 255/300\n",
            "44/44 [==============================] - 0s 7ms/step - loss: 0.0330 - accuracy: 0.9936\n",
            "Epoch 256/300\n",
            "44/44 [==============================] - 0s 8ms/step - loss: 0.0283 - accuracy: 0.9914\n",
            "Epoch 257/300\n",
            "44/44 [==============================] - 0s 8ms/step - loss: 0.0413 - accuracy: 0.9907\n",
            "Epoch 258/300\n",
            "44/44 [==============================] - 0s 7ms/step - loss: 0.0201 - accuracy: 0.9957\n",
            "Epoch 259/300\n",
            "44/44 [==============================] - 0s 8ms/step - loss: 0.0052 - accuracy: 0.9993\n",
            "Epoch 260/300\n",
            "44/44 [==============================] - 0s 7ms/step - loss: 0.0179 - accuracy: 0.9943\n",
            "Epoch 261/300\n",
            "44/44 [==============================] - 0s 8ms/step - loss: 0.0186 - accuracy: 0.9964\n",
            "Epoch 262/300\n",
            "44/44 [==============================] - 0s 8ms/step - loss: 0.0084 - accuracy: 0.9979\n",
            "Epoch 263/300\n",
            "44/44 [==============================] - 0s 8ms/step - loss: 0.0100 - accuracy: 0.9979\n",
            "Epoch 264/300\n",
            "44/44 [==============================] - 0s 8ms/step - loss: 0.0278 - accuracy: 0.9943\n",
            "Epoch 265/300\n",
            "44/44 [==============================] - 0s 8ms/step - loss: 0.0570 - accuracy: 0.9864\n",
            "Epoch 266/300\n",
            "44/44 [==============================] - 0s 7ms/step - loss: 0.0189 - accuracy: 0.9936\n",
            "Epoch 267/300\n",
            "44/44 [==============================] - 0s 8ms/step - loss: 0.0340 - accuracy: 0.9907\n",
            "Epoch 268/300\n",
            "44/44 [==============================] - 0s 8ms/step - loss: 0.0063 - accuracy: 0.9979\n",
            "Epoch 269/300\n",
            "44/44 [==============================] - 0s 8ms/step - loss: 0.0098 - accuracy: 0.9964\n",
            "Epoch 270/300\n",
            "44/44 [==============================] - 0s 8ms/step - loss: 0.0064 - accuracy: 0.9986\n",
            "Epoch 271/300\n",
            "44/44 [==============================] - 0s 8ms/step - loss: 0.0051 - accuracy: 0.9986\n",
            "Epoch 272/300\n",
            "44/44 [==============================] - 0s 8ms/step - loss: 0.0066 - accuracy: 0.9979\n",
            "Epoch 273/300\n",
            "44/44 [==============================] - 0s 8ms/step - loss: 0.0144 - accuracy: 0.9964\n",
            "Epoch 274/300\n",
            "44/44 [==============================] - 0s 7ms/step - loss: 0.0406 - accuracy: 0.9857\n",
            "Epoch 275/300\n",
            "44/44 [==============================] - 0s 7ms/step - loss: 0.0330 - accuracy: 0.9936\n",
            "Epoch 276/300\n",
            "44/44 [==============================] - 0s 8ms/step - loss: 0.0182 - accuracy: 0.9964\n",
            "Epoch 277/300\n",
            "44/44 [==============================] - 0s 7ms/step - loss: 0.0133 - accuracy: 0.9957\n",
            "Epoch 278/300\n",
            "44/44 [==============================] - 0s 8ms/step - loss: 0.0198 - accuracy: 0.9929\n",
            "Epoch 279/300\n",
            "44/44 [==============================] - 0s 8ms/step - loss: 0.0056 - accuracy: 0.9993\n",
            "Epoch 280/300\n",
            "44/44 [==============================] - 0s 8ms/step - loss: 0.0031 - accuracy: 1.0000\n",
            "Epoch 281/300\n",
            "44/44 [==============================] - 1s 13ms/step - loss: 0.0121 - accuracy: 0.9971\n",
            "Epoch 282/300\n",
            "44/44 [==============================] - 1s 12ms/step - loss: 0.0183 - accuracy: 0.9943\n",
            "Epoch 283/300\n",
            "44/44 [==============================] - 1s 12ms/step - loss: 0.0314 - accuracy: 0.9914\n",
            "Epoch 284/300\n",
            "44/44 [==============================] - 1s 13ms/step - loss: 0.0574 - accuracy: 0.9850\n",
            "Epoch 285/300\n",
            "44/44 [==============================] - 1s 13ms/step - loss: 0.0575 - accuracy: 0.9900\n",
            "Epoch 286/300\n",
            "44/44 [==============================] - 1s 13ms/step - loss: 0.0161 - accuracy: 0.9964\n",
            "Epoch 287/300\n",
            "44/44 [==============================] - 1s 13ms/step - loss: 0.0094 - accuracy: 0.9986\n",
            "Epoch 288/300\n",
            "44/44 [==============================] - 0s 9ms/step - loss: 0.0367 - accuracy: 0.9929\n",
            "Epoch 289/300\n",
            "44/44 [==============================] - 0s 8ms/step - loss: 0.0122 - accuracy: 0.9979\n",
            "Epoch 290/300\n",
            "44/44 [==============================] - 0s 8ms/step - loss: 0.0074 - accuracy: 0.9979\n",
            "Epoch 291/300\n",
            "44/44 [==============================] - 0s 8ms/step - loss: 0.0073 - accuracy: 0.9964\n",
            "Epoch 292/300\n",
            "44/44 [==============================] - 0s 8ms/step - loss: 0.0103 - accuracy: 0.9971\n",
            "Epoch 293/300\n",
            "44/44 [==============================] - 0s 8ms/step - loss: 0.0122 - accuracy: 0.9986\n",
            "Epoch 294/300\n",
            "44/44 [==============================] - 0s 8ms/step - loss: 0.0054 - accuracy: 0.9986\n",
            "Epoch 295/300\n",
            "44/44 [==============================] - 0s 8ms/step - loss: 0.0076 - accuracy: 0.9993\n",
            "Epoch 296/300\n",
            "44/44 [==============================] - 0s 8ms/step - loss: 0.0034 - accuracy: 0.9993\n",
            "Epoch 297/300\n",
            "44/44 [==============================] - 0s 8ms/step - loss: 0.0025 - accuracy: 0.9993\n",
            "Epoch 298/300\n",
            "44/44 [==============================] - 0s 8ms/step - loss: 0.0054 - accuracy: 0.9993\n",
            "Epoch 299/300\n",
            "44/44 [==============================] - 0s 8ms/step - loss: 0.0035 - accuracy: 0.9993\n",
            "Epoch 300/300\n",
            "44/44 [==============================] - 0s 8ms/step - loss: 0.0434 - accuracy: 0.9900\n"
          ]
        }
      ]
    },
    {
      "cell_type": "code",
      "source": [
        "y_pred_train_NN = np.argmax(model1.predict(X_train_NN), axis=-1)\n",
        "y_pred_test_NN = np.argmax(model1.predict(X_test_NN), axis=-1)"
      ],
      "metadata": {
        "id": "7InklOgY5nRR",
        "colab": {
          "base_uri": "https://localhost:8080/"
        },
        "outputId": "019b7b6e-a6e6-43d2-bca4-48dd222145ad"
      },
      "execution_count": null,
      "outputs": [
        {
          "output_type": "stream",
          "name": "stdout",
          "text": [
            "44/44 [==============================] - 0s 4ms/step\n",
            "19/19 [==============================] - 0s 5ms/step\n"
          ]
        }
      ]
    },
    {
      "cell_type": "code",
      "source": [
        "sklearn.metrics.accuracy_score(np.argmax(Y_train_NN,axis=-1), y_pred_train_NN)"
      ],
      "metadata": {
        "id": "ZmCUHrPe5nN4",
        "colab": {
          "base_uri": "https://localhost:8080/"
        },
        "outputId": "42444a66-4893-419a-8931-114750f06fad"
      },
      "execution_count": null,
      "outputs": [
        {
          "output_type": "execute_result",
          "data": {
            "text/plain": [
              "0.9914285714285714"
            ]
          },
          "metadata": {},
          "execution_count": 108
        }
      ]
    },
    {
      "cell_type": "code",
      "source": [
        "sklearn.metrics.accuracy_score(np.argmax(Y_test_NN,axis=-1), y_pred_test_NN)"
      ],
      "metadata": {
        "id": "C4TcIrtf5nKp",
        "colab": {
          "base_uri": "https://localhost:8080/"
        },
        "outputId": "763c3cc0-2715-4593-fff6-b91fa27a7bdc"
      },
      "execution_count": null,
      "outputs": [
        {
          "output_type": "execute_result",
          "data": {
            "text/plain": [
              "0.9716666666666667"
            ]
          },
          "metadata": {},
          "execution_count": 109
        }
      ]
    },
    {
      "cell_type": "code",
      "source": [
        "sklearn.metrics.f1_score(np.argmax(Y_train_NN,axis=-1), y_pred_train_NN, average='micro')"
      ],
      "metadata": {
        "colab": {
          "base_uri": "https://localhost:8080/"
        },
        "id": "eCfULVp-5nHe",
        "outputId": "2435a942-5ba5-47bb-b84e-7c6e6fd2a10a"
      },
      "execution_count": null,
      "outputs": [
        {
          "output_type": "execute_result",
          "data": {
            "text/plain": [
              "0.9914285714285714"
            ]
          },
          "metadata": {},
          "execution_count": 110
        }
      ]
    },
    {
      "cell_type": "code",
      "source": [
        "sklearn.metrics.f1_score(np.argmax(Y_test_NN,axis=-1), y_pred_test_NN, average='micro')"
      ],
      "metadata": {
        "id": "J1ws8xqk5nDv",
        "colab": {
          "base_uri": "https://localhost:8080/"
        },
        "outputId": "1a66f143-f0d4-4424-d4ce-09e10d901a06"
      },
      "execution_count": null,
      "outputs": [
        {
          "output_type": "execute_result",
          "data": {
            "text/plain": [
              "0.9716666666666667"
            ]
          },
          "metadata": {},
          "execution_count": 111
        }
      ]
    },
    {
      "cell_type": "code",
      "source": [
        "sklearn.metrics.recall_score(np.argmax(Y_train_NN,axis=-1), y_pred_train_NN, average='micro')"
      ],
      "metadata": {
        "id": "fNBROxhU5nBw",
        "colab": {
          "base_uri": "https://localhost:8080/"
        },
        "outputId": "2b5157dd-b9a4-4cc0-d51b-d8958d5e2f87"
      },
      "execution_count": null,
      "outputs": [
        {
          "output_type": "execute_result",
          "data": {
            "text/plain": [
              "0.9914285714285714"
            ]
          },
          "metadata": {},
          "execution_count": 112
        }
      ]
    },
    {
      "cell_type": "code",
      "source": [
        "sklearn.metrics.recall_score(np.argmax(Y_test_NN,axis=-1), y_pred_test_NN, average='micro')"
      ],
      "metadata": {
        "id": "w0O7lDO55m8t",
        "colab": {
          "base_uri": "https://localhost:8080/"
        },
        "outputId": "b8645f52-a776-4242-ac69-0e42f38530dc"
      },
      "execution_count": null,
      "outputs": [
        {
          "output_type": "execute_result",
          "data": {
            "text/plain": [
              "0.9716666666666667"
            ]
          },
          "metadata": {},
          "execution_count": 113
        }
      ]
    },
    {
      "cell_type": "code",
      "source": [
        "sklearn.metrics.precision_score(np.argmax(Y_test_NN,axis=-1), y_pred_test_NN, average='micro')"
      ],
      "metadata": {
        "id": "fnMwpBrw7kR8",
        "colab": {
          "base_uri": "https://localhost:8080/"
        },
        "outputId": "66a31d12-69e2-4d08-b536-c0eb44bf8449"
      },
      "execution_count": null,
      "outputs": [
        {
          "output_type": "execute_result",
          "data": {
            "text/plain": [
              "0.9716666666666667"
            ]
          },
          "metadata": {},
          "execution_count": 114
        }
      ]
    },
    {
      "cell_type": "code",
      "source": [
        "sklearn.metrics.precision_score(np.argmax(Y_train_NN,axis=-1), y_pred_train_NN, average='micro')"
      ],
      "metadata": {
        "id": "IuXmmTSW5lRj",
        "colab": {
          "base_uri": "https://localhost:8080/"
        },
        "outputId": "c3f52c2c-2ac4-4fb0-a8b3-9c9c3d895b06"
      },
      "execution_count": null,
      "outputs": [
        {
          "output_type": "execute_result",
          "data": {
            "text/plain": [
              "0.9914285714285714"
            ]
          },
          "metadata": {},
          "execution_count": 115
        }
      ]
    },
    {
      "cell_type": "code",
      "source": [
        "#sklearn.metrics.confusion_matrix(Y_test_NN,y_pred_test_NN)\n",
        "\n",
        "len(Y_test_NN)\n",
        "len(y_pred_test_NN)"
      ],
      "metadata": {
        "id": "24evsqoP7lsB",
        "colab": {
          "base_uri": "https://localhost:8080/"
        },
        "outputId": "6fdab177-dc34-4fb1-ca38-6b7622e7ccd5"
      },
      "execution_count": null,
      "outputs": [
        {
          "output_type": "execute_result",
          "data": {
            "text/plain": [
              "600"
            ]
          },
          "metadata": {},
          "execution_count": 116
        }
      ]
    },
    {
      "cell_type": "code",
      "source": [],
      "metadata": {
        "id": "dJ6rYr-I7les"
      },
      "execution_count": null,
      "outputs": []
    },
    {
      "cell_type": "code",
      "source": [],
      "metadata": {
        "id": "a_2MT96X7lJ9"
      },
      "execution_count": null,
      "outputs": []
    }
  ],
  "metadata": {
    "colab": {
      "provenance": [],
      "toc_visible": true
    },
    "kernelspec": {
      "display_name": "Python 3",
      "name": "python3"
    },
    "language_info": {
      "codemirror_mode": {
        "name": "ipython",
        "version": 3
      },
      "file_extension": ".py",
      "mimetype": "text/x-python",
      "name": "python",
      "nbconvert_exporter": "python",
      "pygments_lexer": "ipython3",
      "version": "3.8.8"
    }
  },
  "nbformat": 4,
  "nbformat_minor": 0
}
